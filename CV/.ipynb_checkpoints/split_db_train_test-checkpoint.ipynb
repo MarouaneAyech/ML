{
 "cells": [
  {
   "cell_type": "markdown",
   "metadata": {},
   "source": [
    "<h2>Load image paths (X) & classes (y)</h2>"
   ]
  },
  {
   "cell_type": "code",
   "execution_count": 16,
   "metadata": {},
   "outputs": [],
   "source": [
    "from pathlib import Path\n",
    "db_path=\"player-faces-db\"\n",
    "db_dir = Path(db_path)\n",
    "\n",
    "folders = [folder for folder in db_dir.iterdir() if folder.is_dir()]"
   ]
  },
  {
   "cell_type": "code",
   "execution_count": 30,
   "metadata": {},
   "outputs": [
    {
     "data": {
      "text/plain": [
       "['messi', 'ronaldo', 'salah']"
      ]
     },
     "execution_count": 30,
     "metadata": {},
     "output_type": "execute_result"
    }
   ],
   "source": [
    "classes = [folder.name for folder in folders]\n",
    "classes"
   ]
  },
  {
   "cell_type": "code",
   "execution_count": 17,
   "metadata": {},
   "outputs": [],
   "source": [
    "X=[]\n",
    "y=[]\n",
    "for class_id, folder in enumerate(folders):\n",
    "    for file in folder.iterdir():\n",
    "        X.append(str(file.absolute()))\n",
    "        y.append(class_id)"
   ]
  },
  {
   "cell_type": "code",
   "execution_count": 18,
   "metadata": {},
   "outputs": [
    {
     "data": {
      "text/plain": [
       "['C:\\\\Users\\\\marouane\\\\Desktop\\\\ML\\\\17-10-19\\\\MLRW\\\\ML\\\\CV\\\\player-faces-db\\\\messi\\\\0001.jpg',\n",
       " 'C:\\\\Users\\\\marouane\\\\Desktop\\\\ML\\\\17-10-19\\\\MLRW\\\\ML\\\\CV\\\\player-faces-db\\\\messi\\\\0002.jpg',\n",
       " 'C:\\\\Users\\\\marouane\\\\Desktop\\\\ML\\\\17-10-19\\\\MLRW\\\\ML\\\\CV\\\\player-faces-db\\\\messi\\\\0003.jpg',\n",
       " 'C:\\\\Users\\\\marouane\\\\Desktop\\\\ML\\\\17-10-19\\\\MLRW\\\\ML\\\\CV\\\\player-faces-db\\\\messi\\\\0004.jpg',\n",
       " 'C:\\\\Users\\\\marouane\\\\Desktop\\\\ML\\\\17-10-19\\\\MLRW\\\\ML\\\\CV\\\\player-faces-db\\\\messi\\\\0005.jpg',\n",
       " 'C:\\\\Users\\\\marouane\\\\Desktop\\\\ML\\\\17-10-19\\\\MLRW\\\\ML\\\\CV\\\\player-faces-db\\\\messi\\\\0006.jpg',\n",
       " 'C:\\\\Users\\\\marouane\\\\Desktop\\\\ML\\\\17-10-19\\\\MLRW\\\\ML\\\\CV\\\\player-faces-db\\\\messi\\\\0007.jpg',\n",
       " 'C:\\\\Users\\\\marouane\\\\Desktop\\\\ML\\\\17-10-19\\\\MLRW\\\\ML\\\\CV\\\\player-faces-db\\\\messi\\\\0008.jpg',\n",
       " 'C:\\\\Users\\\\marouane\\\\Desktop\\\\ML\\\\17-10-19\\\\MLRW\\\\ML\\\\CV\\\\player-faces-db\\\\messi\\\\0009.jpg',\n",
       " 'C:\\\\Users\\\\marouane\\\\Desktop\\\\ML\\\\17-10-19\\\\MLRW\\\\ML\\\\CV\\\\player-faces-db\\\\messi\\\\0010.jpg',\n",
       " 'C:\\\\Users\\\\marouane\\\\Desktop\\\\ML\\\\17-10-19\\\\MLRW\\\\ML\\\\CV\\\\player-faces-db\\\\messi\\\\0011.jpg',\n",
       " 'C:\\\\Users\\\\marouane\\\\Desktop\\\\ML\\\\17-10-19\\\\MLRW\\\\ML\\\\CV\\\\player-faces-db\\\\messi\\\\0012.jpg',\n",
       " 'C:\\\\Users\\\\marouane\\\\Desktop\\\\ML\\\\17-10-19\\\\MLRW\\\\ML\\\\CV\\\\player-faces-db\\\\messi\\\\0013.jpg',\n",
       " 'C:\\\\Users\\\\marouane\\\\Desktop\\\\ML\\\\17-10-19\\\\MLRW\\\\ML\\\\CV\\\\player-faces-db\\\\messi\\\\0014.jpg',\n",
       " 'C:\\\\Users\\\\marouane\\\\Desktop\\\\ML\\\\17-10-19\\\\MLRW\\\\ML\\\\CV\\\\player-faces-db\\\\messi\\\\0015.jpg',\n",
       " 'C:\\\\Users\\\\marouane\\\\Desktop\\\\ML\\\\17-10-19\\\\MLRW\\\\ML\\\\CV\\\\player-faces-db\\\\messi\\\\0016.jpg',\n",
       " 'C:\\\\Users\\\\marouane\\\\Desktop\\\\ML\\\\17-10-19\\\\MLRW\\\\ML\\\\CV\\\\player-faces-db\\\\messi\\\\0017.jpg',\n",
       " 'C:\\\\Users\\\\marouane\\\\Desktop\\\\ML\\\\17-10-19\\\\MLRW\\\\ML\\\\CV\\\\player-faces-db\\\\messi\\\\0018.jpg',\n",
       " 'C:\\\\Users\\\\marouane\\\\Desktop\\\\ML\\\\17-10-19\\\\MLRW\\\\ML\\\\CV\\\\player-faces-db\\\\messi\\\\0019.jpg',\n",
       " 'C:\\\\Users\\\\marouane\\\\Desktop\\\\ML\\\\17-10-19\\\\MLRW\\\\ML\\\\CV\\\\player-faces-db\\\\messi\\\\0020.jpg',\n",
       " 'C:\\\\Users\\\\marouane\\\\Desktop\\\\ML\\\\17-10-19\\\\MLRW\\\\ML\\\\CV\\\\player-faces-db\\\\ronaldo\\\\0001.jpg',\n",
       " 'C:\\\\Users\\\\marouane\\\\Desktop\\\\ML\\\\17-10-19\\\\MLRW\\\\ML\\\\CV\\\\player-faces-db\\\\ronaldo\\\\0002.jpg',\n",
       " 'C:\\\\Users\\\\marouane\\\\Desktop\\\\ML\\\\17-10-19\\\\MLRW\\\\ML\\\\CV\\\\player-faces-db\\\\ronaldo\\\\0003.jpg',\n",
       " 'C:\\\\Users\\\\marouane\\\\Desktop\\\\ML\\\\17-10-19\\\\MLRW\\\\ML\\\\CV\\\\player-faces-db\\\\ronaldo\\\\0004.jpg',\n",
       " 'C:\\\\Users\\\\marouane\\\\Desktop\\\\ML\\\\17-10-19\\\\MLRW\\\\ML\\\\CV\\\\player-faces-db\\\\ronaldo\\\\0005.jpg',\n",
       " 'C:\\\\Users\\\\marouane\\\\Desktop\\\\ML\\\\17-10-19\\\\MLRW\\\\ML\\\\CV\\\\player-faces-db\\\\ronaldo\\\\0006.jpg',\n",
       " 'C:\\\\Users\\\\marouane\\\\Desktop\\\\ML\\\\17-10-19\\\\MLRW\\\\ML\\\\CV\\\\player-faces-db\\\\ronaldo\\\\0007.jpg',\n",
       " 'C:\\\\Users\\\\marouane\\\\Desktop\\\\ML\\\\17-10-19\\\\MLRW\\\\ML\\\\CV\\\\player-faces-db\\\\ronaldo\\\\0008.jpg',\n",
       " 'C:\\\\Users\\\\marouane\\\\Desktop\\\\ML\\\\17-10-19\\\\MLRW\\\\ML\\\\CV\\\\player-faces-db\\\\ronaldo\\\\0009.jpg',\n",
       " 'C:\\\\Users\\\\marouane\\\\Desktop\\\\ML\\\\17-10-19\\\\MLRW\\\\ML\\\\CV\\\\player-faces-db\\\\ronaldo\\\\0010.jpg',\n",
       " 'C:\\\\Users\\\\marouane\\\\Desktop\\\\ML\\\\17-10-19\\\\MLRW\\\\ML\\\\CV\\\\player-faces-db\\\\ronaldo\\\\0011.jpg',\n",
       " 'C:\\\\Users\\\\marouane\\\\Desktop\\\\ML\\\\17-10-19\\\\MLRW\\\\ML\\\\CV\\\\player-faces-db\\\\ronaldo\\\\0012.jpg',\n",
       " 'C:\\\\Users\\\\marouane\\\\Desktop\\\\ML\\\\17-10-19\\\\MLRW\\\\ML\\\\CV\\\\player-faces-db\\\\ronaldo\\\\0013.jpg',\n",
       " 'C:\\\\Users\\\\marouane\\\\Desktop\\\\ML\\\\17-10-19\\\\MLRW\\\\ML\\\\CV\\\\player-faces-db\\\\ronaldo\\\\0014.jpg',\n",
       " 'C:\\\\Users\\\\marouane\\\\Desktop\\\\ML\\\\17-10-19\\\\MLRW\\\\ML\\\\CV\\\\player-faces-db\\\\ronaldo\\\\0015.jpg',\n",
       " 'C:\\\\Users\\\\marouane\\\\Desktop\\\\ML\\\\17-10-19\\\\MLRW\\\\ML\\\\CV\\\\player-faces-db\\\\ronaldo\\\\0016.jpg',\n",
       " 'C:\\\\Users\\\\marouane\\\\Desktop\\\\ML\\\\17-10-19\\\\MLRW\\\\ML\\\\CV\\\\player-faces-db\\\\ronaldo\\\\0017.jpg',\n",
       " 'C:\\\\Users\\\\marouane\\\\Desktop\\\\ML\\\\17-10-19\\\\MLRW\\\\ML\\\\CV\\\\player-faces-db\\\\ronaldo\\\\0018.jpg',\n",
       " 'C:\\\\Users\\\\marouane\\\\Desktop\\\\ML\\\\17-10-19\\\\MLRW\\\\ML\\\\CV\\\\player-faces-db\\\\ronaldo\\\\0019.jpg',\n",
       " 'C:\\\\Users\\\\marouane\\\\Desktop\\\\ML\\\\17-10-19\\\\MLRW\\\\ML\\\\CV\\\\player-faces-db\\\\ronaldo\\\\0020.jpg',\n",
       " 'C:\\\\Users\\\\marouane\\\\Desktop\\\\ML\\\\17-10-19\\\\MLRW\\\\ML\\\\CV\\\\player-faces-db\\\\salah\\\\0001.jpg',\n",
       " 'C:\\\\Users\\\\marouane\\\\Desktop\\\\ML\\\\17-10-19\\\\MLRW\\\\ML\\\\CV\\\\player-faces-db\\\\salah\\\\0002.jpg',\n",
       " 'C:\\\\Users\\\\marouane\\\\Desktop\\\\ML\\\\17-10-19\\\\MLRW\\\\ML\\\\CV\\\\player-faces-db\\\\salah\\\\0003.jpg',\n",
       " 'C:\\\\Users\\\\marouane\\\\Desktop\\\\ML\\\\17-10-19\\\\MLRW\\\\ML\\\\CV\\\\player-faces-db\\\\salah\\\\0004.jpg',\n",
       " 'C:\\\\Users\\\\marouane\\\\Desktop\\\\ML\\\\17-10-19\\\\MLRW\\\\ML\\\\CV\\\\player-faces-db\\\\salah\\\\0005.jpg',\n",
       " 'C:\\\\Users\\\\marouane\\\\Desktop\\\\ML\\\\17-10-19\\\\MLRW\\\\ML\\\\CV\\\\player-faces-db\\\\salah\\\\0006.jpg',\n",
       " 'C:\\\\Users\\\\marouane\\\\Desktop\\\\ML\\\\17-10-19\\\\MLRW\\\\ML\\\\CV\\\\player-faces-db\\\\salah\\\\0007.jpg',\n",
       " 'C:\\\\Users\\\\marouane\\\\Desktop\\\\ML\\\\17-10-19\\\\MLRW\\\\ML\\\\CV\\\\player-faces-db\\\\salah\\\\0008.jpg',\n",
       " 'C:\\\\Users\\\\marouane\\\\Desktop\\\\ML\\\\17-10-19\\\\MLRW\\\\ML\\\\CV\\\\player-faces-db\\\\salah\\\\0009.jpg',\n",
       " 'C:\\\\Users\\\\marouane\\\\Desktop\\\\ML\\\\17-10-19\\\\MLRW\\\\ML\\\\CV\\\\player-faces-db\\\\salah\\\\0010.jpg',\n",
       " 'C:\\\\Users\\\\marouane\\\\Desktop\\\\ML\\\\17-10-19\\\\MLRW\\\\ML\\\\CV\\\\player-faces-db\\\\salah\\\\0011.jpg',\n",
       " 'C:\\\\Users\\\\marouane\\\\Desktop\\\\ML\\\\17-10-19\\\\MLRW\\\\ML\\\\CV\\\\player-faces-db\\\\salah\\\\0012.jpg',\n",
       " 'C:\\\\Users\\\\marouane\\\\Desktop\\\\ML\\\\17-10-19\\\\MLRW\\\\ML\\\\CV\\\\player-faces-db\\\\salah\\\\0013.jpg',\n",
       " 'C:\\\\Users\\\\marouane\\\\Desktop\\\\ML\\\\17-10-19\\\\MLRW\\\\ML\\\\CV\\\\player-faces-db\\\\salah\\\\0014.jpg',\n",
       " 'C:\\\\Users\\\\marouane\\\\Desktop\\\\ML\\\\17-10-19\\\\MLRW\\\\ML\\\\CV\\\\player-faces-db\\\\salah\\\\0015.jpg',\n",
       " 'C:\\\\Users\\\\marouane\\\\Desktop\\\\ML\\\\17-10-19\\\\MLRW\\\\ML\\\\CV\\\\player-faces-db\\\\salah\\\\0016.jpg',\n",
       " 'C:\\\\Users\\\\marouane\\\\Desktop\\\\ML\\\\17-10-19\\\\MLRW\\\\ML\\\\CV\\\\player-faces-db\\\\salah\\\\0017.jpg',\n",
       " 'C:\\\\Users\\\\marouane\\\\Desktop\\\\ML\\\\17-10-19\\\\MLRW\\\\ML\\\\CV\\\\player-faces-db\\\\salah\\\\0018.jpg',\n",
       " 'C:\\\\Users\\\\marouane\\\\Desktop\\\\ML\\\\17-10-19\\\\MLRW\\\\ML\\\\CV\\\\player-faces-db\\\\salah\\\\0019.jpg',\n",
       " 'C:\\\\Users\\\\marouane\\\\Desktop\\\\ML\\\\17-10-19\\\\MLRW\\\\ML\\\\CV\\\\player-faces-db\\\\salah\\\\0020.jpg']"
      ]
     },
     "execution_count": 18,
     "metadata": {},
     "output_type": "execute_result"
    }
   ],
   "source": [
    "X"
   ]
  },
  {
   "cell_type": "code",
   "execution_count": 24,
   "metadata": {},
   "outputs": [
    {
     "data": {
      "text/plain": [
       "array([0, 0, 0, 0, 0, 0, 0, 0, 0, 0, 0, 0, 0, 0, 0, 0, 0, 0, 0, 0, 1, 1,\n",
       "       1, 1, 1, 1, 1, 1, 1, 1, 1, 1, 1, 1, 1, 1, 1, 1, 1, 1, 2, 2, 2, 2,\n",
       "       2, 2, 2, 2, 2, 2, 2, 2, 2, 2, 2, 2, 2, 2, 2, 2])"
      ]
     },
     "execution_count": 24,
     "metadata": {},
     "output_type": "execute_result"
    }
   ],
   "source": [
    "y.T"
   ]
  },
  {
   "cell_type": "markdown",
   "metadata": {},
   "source": [
    "<h2>Split database into train and test</h2>"
   ]
  },
  {
   "cell_type": "code",
   "execution_count": 21,
   "metadata": {},
   "outputs": [],
   "source": [
    "import numpy as np\n",
    "X = np.array(X)\n",
    "y = np.array(y)"
   ]
  },
  {
   "cell_type": "code",
   "execution_count": 22,
   "metadata": {},
   "outputs": [],
   "source": [
    "from sklearn.model_selection import train_test_split\n",
    "X_train, X_test, y_train, y_test = train_test_split(X,y , test_size=0.3, random_state=42, stratify=y)"
   ]
  },
  {
   "cell_type": "markdown",
   "metadata": {},
   "source": [
    "<h2>Check image distribution per class in train and test</h2>"
   ]
  },
  {
   "cell_type": "code",
   "execution_count": 31,
   "metadata": {},
   "outputs": [
    {
     "data": {
      "image/png": "[encoded data removed]",
      "text/plain": [
       "<Figure size 432x288 with 1 Axes>"
      ]
     },
     "metadata": {
      "needs_background": "light"
     },
     "output_type": "display_data"
    }
   ],
   "source": [
    "h_train,_ = np.histogram(y_train, bins=np.arange(4))\n",
    "h_test,_ = np.histogram(y_test, bins=np.arange(4))\n",
    "\n",
    "import matplotlib.pyplot as plt\n",
    "plt.bar(np.arange(3),h_train, width=0.25, label='train images')\n",
    "plt.bar(np.arange(3)+0.25,h_test, width=0.25, label='test images')\n",
    "plt.xticks(np.arange(3), classes)\n",
    "plt.legend()\n",
    "plt.show()"
   ]
  },
  {
   "cell_type": "code",
   "execution_count": 32,
   "metadata": {},
   "outputs": [],
   "source": [
    "from sklearn.utils import Bunch\n",
    "\n",
    "ds_train = Bunch(filenames=X_train, target=y_train, target_names=classes)"
   ]
  },
  {
   "cell_type": "code",
   "execution_count": 33,
   "metadata": {},
   "outputs": [
    {
     "data": {
      "text/plain": [
       "array(['C:\\\\Users\\\\marouane\\\\Desktop\\\\ML\\\\17-10-19\\\\MLRW\\\\ML\\\\CV\\\\player-faces-db\\\\salah\\\\0008.jpg',\n",
       "       'C:\\\\Users\\\\marouane\\\\Desktop\\\\ML\\\\17-10-19\\\\MLRW\\\\ML\\\\CV\\\\player-faces-db\\\\salah\\\\0016.jpg',\n",
       "       'C:\\\\Users\\\\marouane\\\\Desktop\\\\ML\\\\17-10-19\\\\MLRW\\\\ML\\\\CV\\\\player-faces-db\\\\messi\\\\0016.jpg',\n",
       "       'C:\\\\Users\\\\marouane\\\\Desktop\\\\ML\\\\17-10-19\\\\MLRW\\\\ML\\\\CV\\\\player-faces-db\\\\ronaldo\\\\0013.jpg',\n",
       "       'C:\\\\Users\\\\marouane\\\\Desktop\\\\ML\\\\17-10-19\\\\MLRW\\\\ML\\\\CV\\\\player-faces-db\\\\ronaldo\\\\0011.jpg',\n",
       "       'C:\\\\Users\\\\marouane\\\\Desktop\\\\ML\\\\17-10-19\\\\MLRW\\\\ML\\\\CV\\\\player-faces-db\\\\salah\\\\0010.jpg',\n",
       "       'C:\\\\Users\\\\marouane\\\\Desktop\\\\ML\\\\17-10-19\\\\MLRW\\\\ML\\\\CV\\\\player-faces-db\\\\ronaldo\\\\0004.jpg',\n",
       "       'C:\\\\Users\\\\marouane\\\\Desktop\\\\ML\\\\17-10-19\\\\MLRW\\\\ML\\\\CV\\\\player-faces-db\\\\messi\\\\0012.jpg',\n",
       "       'C:\\\\Users\\\\marouane\\\\Desktop\\\\ML\\\\17-10-19\\\\MLRW\\\\ML\\\\CV\\\\player-faces-db\\\\messi\\\\0014.jpg',\n",
       "       'C:\\\\Users\\\\marouane\\\\Desktop\\\\ML\\\\17-10-19\\\\MLRW\\\\ML\\\\CV\\\\player-faces-db\\\\messi\\\\0001.jpg',\n",
       "       'C:\\\\Users\\\\marouane\\\\Desktop\\\\ML\\\\17-10-19\\\\MLRW\\\\ML\\\\CV\\\\player-faces-db\\\\ronaldo\\\\0005.jpg',\n",
       "       'C:\\\\Users\\\\marouane\\\\Desktop\\\\ML\\\\17-10-19\\\\MLRW\\\\ML\\\\CV\\\\player-faces-db\\\\salah\\\\0001.jpg',\n",
       "       'C:\\\\Users\\\\marouane\\\\Desktop\\\\ML\\\\17-10-19\\\\MLRW\\\\ML\\\\CV\\\\player-faces-db\\\\messi\\\\0019.jpg',\n",
       "       'C:\\\\Users\\\\marouane\\\\Desktop\\\\ML\\\\17-10-19\\\\MLRW\\\\ML\\\\CV\\\\player-faces-db\\\\salah\\\\0019.jpg',\n",
       "       'C:\\\\Users\\\\marouane\\\\Desktop\\\\ML\\\\17-10-19\\\\MLRW\\\\ML\\\\CV\\\\player-faces-db\\\\ronaldo\\\\0008.jpg',\n",
       "       'C:\\\\Users\\\\marouane\\\\Desktop\\\\ML\\\\17-10-19\\\\MLRW\\\\ML\\\\CV\\\\player-faces-db\\\\messi\\\\0009.jpg',\n",
       "       'C:\\\\Users\\\\marouane\\\\Desktop\\\\ML\\\\17-10-19\\\\MLRW\\\\ML\\\\CV\\\\player-faces-db\\\\ronaldo\\\\0003.jpg',\n",
       "       'C:\\\\Users\\\\marouane\\\\Desktop\\\\ML\\\\17-10-19\\\\MLRW\\\\ML\\\\CV\\\\player-faces-db\\\\salah\\\\0006.jpg',\n",
       "       'C:\\\\Users\\\\marouane\\\\Desktop\\\\ML\\\\17-10-19\\\\MLRW\\\\ML\\\\CV\\\\player-faces-db\\\\messi\\\\0010.jpg',\n",
       "       'C:\\\\Users\\\\marouane\\\\Desktop\\\\ML\\\\17-10-19\\\\MLRW\\\\ML\\\\CV\\\\player-faces-db\\\\salah\\\\0003.jpg',\n",
       "       'C:\\\\Users\\\\marouane\\\\Desktop\\\\ML\\\\17-10-19\\\\MLRW\\\\ML\\\\CV\\\\player-faces-db\\\\ronaldo\\\\0015.jpg',\n",
       "       'C:\\\\Users\\\\marouane\\\\Desktop\\\\ML\\\\17-10-19\\\\MLRW\\\\ML\\\\CV\\\\player-faces-db\\\\ronaldo\\\\0007.jpg',\n",
       "       'C:\\\\Users\\\\marouane\\\\Desktop\\\\ML\\\\17-10-19\\\\MLRW\\\\ML\\\\CV\\\\player-faces-db\\\\ronaldo\\\\0014.jpg',\n",
       "       'C:\\\\Users\\\\marouane\\\\Desktop\\\\ML\\\\17-10-19\\\\MLRW\\\\ML\\\\CV\\\\player-faces-db\\\\messi\\\\0004.jpg',\n",
       "       'C:\\\\Users\\\\marouane\\\\Desktop\\\\ML\\\\17-10-19\\\\MLRW\\\\ML\\\\CV\\\\player-faces-db\\\\ronaldo\\\\0020.jpg',\n",
       "       'C:\\\\Users\\\\marouane\\\\Desktop\\\\ML\\\\17-10-19\\\\MLRW\\\\ML\\\\CV\\\\player-faces-db\\\\ronaldo\\\\0017.jpg',\n",
       "       'C:\\\\Users\\\\marouane\\\\Desktop\\\\ML\\\\17-10-19\\\\MLRW\\\\ML\\\\CV\\\\player-faces-db\\\\salah\\\\0002.jpg',\n",
       "       'C:\\\\Users\\\\marouane\\\\Desktop\\\\ML\\\\17-10-19\\\\MLRW\\\\ML\\\\CV\\\\player-faces-db\\\\salah\\\\0014.jpg',\n",
       "       'C:\\\\Users\\\\marouane\\\\Desktop\\\\ML\\\\17-10-19\\\\MLRW\\\\ML\\\\CV\\\\player-faces-db\\\\messi\\\\0017.jpg',\n",
       "       'C:\\\\Users\\\\marouane\\\\Desktop\\\\ML\\\\17-10-19\\\\MLRW\\\\ML\\\\CV\\\\player-faces-db\\\\salah\\\\0005.jpg',\n",
       "       'C:\\\\Users\\\\marouane\\\\Desktop\\\\ML\\\\17-10-19\\\\MLRW\\\\ML\\\\CV\\\\player-faces-db\\\\messi\\\\0003.jpg',\n",
       "       'C:\\\\Users\\\\marouane\\\\Desktop\\\\ML\\\\17-10-19\\\\MLRW\\\\ML\\\\CV\\\\player-faces-db\\\\ronaldo\\\\0010.jpg',\n",
       "       'C:\\\\Users\\\\marouane\\\\Desktop\\\\ML\\\\17-10-19\\\\MLRW\\\\ML\\\\CV\\\\player-faces-db\\\\ronaldo\\\\0006.jpg',\n",
       "       'C:\\\\Users\\\\marouane\\\\Desktop\\\\ML\\\\17-10-19\\\\MLRW\\\\ML\\\\CV\\\\player-faces-db\\\\salah\\\\0011.jpg',\n",
       "       'C:\\\\Users\\\\marouane\\\\Desktop\\\\ML\\\\17-10-19\\\\MLRW\\\\ML\\\\CV\\\\player-faces-db\\\\salah\\\\0015.jpg',\n",
       "       'C:\\\\Users\\\\marouane\\\\Desktop\\\\ML\\\\17-10-19\\\\MLRW\\\\ML\\\\CV\\\\player-faces-db\\\\messi\\\\0006.jpg',\n",
       "       'C:\\\\Users\\\\marouane\\\\Desktop\\\\ML\\\\17-10-19\\\\MLRW\\\\ML\\\\CV\\\\player-faces-db\\\\messi\\\\0018.jpg',\n",
       "       'C:\\\\Users\\\\marouane\\\\Desktop\\\\ML\\\\17-10-19\\\\MLRW\\\\ML\\\\CV\\\\player-faces-db\\\\messi\\\\0002.jpg',\n",
       "       'C:\\\\Users\\\\marouane\\\\Desktop\\\\ML\\\\17-10-19\\\\MLRW\\\\ML\\\\CV\\\\player-faces-db\\\\salah\\\\0013.jpg',\n",
       "       'C:\\\\Users\\\\marouane\\\\Desktop\\\\ML\\\\17-10-19\\\\MLRW\\\\ML\\\\CV\\\\player-faces-db\\\\ronaldo\\\\0016.jpg',\n",
       "       'C:\\\\Users\\\\marouane\\\\Desktop\\\\ML\\\\17-10-19\\\\MLRW\\\\ML\\\\CV\\\\player-faces-db\\\\messi\\\\0020.jpg',\n",
       "       'C:\\\\Users\\\\marouane\\\\Desktop\\\\ML\\\\17-10-19\\\\MLRW\\\\ML\\\\CV\\\\player-faces-db\\\\salah\\\\0017.jpg'],\n",
       "      dtype='<U81')"
      ]
     },
     "execution_count": 33,
     "metadata": {},
     "output_type": "execute_result"
    }
   ],
   "source": [
    "ds_train.filenames"
   ]
  },
  {
   "cell_type": "code",
   "execution_count": 34,
   "metadata": {},
   "outputs": [
    {
     "data": {
      "text/plain": [
       "array([2, 2, 0, 1, 1, 2, 1, 0, 0, 0, 1, 2, 0, 2, 1, 0, 1, 2, 0, 2, 1, 1,\n",
       "       1, 0, 1, 1, 2, 2, 0, 2, 0, 1, 1, 2, 2, 0, 0, 0, 2, 1, 0, 2])"
      ]
     },
     "execution_count": 34,
     "metadata": {},
     "output_type": "execute_result"
    }
   ],
   "source": [
    "ds_train.target"
   ]
  },
  {
   "cell_type": "code",
   "execution_count": 35,
   "metadata": {},
   "outputs": [
    {
     "data": {
      "text/plain": [
       "['messi', 'ronaldo', 'salah']"
      ]
     },
     "execution_count": 35,
     "metadata": {},
     "output_type": "execute_result"
    }
   ],
   "source": [
    "ds_train.target_names"
   ]
  },
  {
   "cell_type": "code",
   "execution_count": 37,
   "metadata": {},
   "outputs": [],
   "source": [
    "ds_test = Bunch(filenames=X_test, target=y_test, target_names=classes)"
   ]
  },
  {
   "cell_type": "code",
   "execution_count": 41,
   "metadata": {},
   "outputs": [
    {
     "data": {
      "text/plain": [
       "['ds_test']"
      ]
     },
     "execution_count": 41,
     "metadata": {},
     "output_type": "execute_result"
    }
   ],
   "source": [
    "from joblib import dump, load\n",
    "\n",
    "dump(ds_train, 'ds_train')\n",
    "dump(ds_train, 'ds_test')"
   ]
  }
 ],
 "metadata": {
  "kernelspec": {
   "display_name": "Python 3",
   "language": "python",
   "name": "python3"
  },
  "language_info": {
   "codemirror_mode": {
    "name": "ipython",
    "version": 3
   },
   "file_extension": ".py",
   "mimetype": "text/x-python",
   "name": "python",
   "nbconvert_exporter": "python",
   "pygments_lexer": "ipython3",
   "version": "3.6.9"
  }
 },
 "nbformat": 4,
 "nbformat_minor": 2
}
